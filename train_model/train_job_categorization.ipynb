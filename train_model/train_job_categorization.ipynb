{
 "cells": [
  {
   "cell_type": "markdown",
   "metadata": {},
   "source": [
    "**Alter working directory to get classes from parent folder**"
   ]
  },
  {
   "cell_type": "code",
   "execution_count": 1,
   "metadata": {},
   "outputs": [],
   "source": [
    "import sys\n",
    "import os"
   ]
  },
  {
   "cell_type": "code",
   "execution_count": 2,
   "metadata": {},
   "outputs": [],
   "source": [
    "# Get the current working directory\n",
    "current_dir = os.getcwd()\n",
    "\n",
    "# Get the parent directory (Job_Category_Classification)\n",
    "parent_dir = os.path.abspath(os.path.join(current_dir, os.pardir))\n",
    "\n",
    "sys.path.append(parent_dir)"
   ]
  },
  {
   "cell_type": "markdown",
   "metadata": {},
   "source": [
    "**Establish Database Connection**"
   ]
  },
  {
   "cell_type": "code",
   "execution_count": 3,
   "metadata": {},
   "outputs": [],
   "source": [
    "import yaml\n",
    "from scripts.SqlConn import SqlConn"
   ]
  },
  {
   "cell_type": "code",
   "execution_count": 4,
   "metadata": {},
   "outputs": [],
   "source": [
    "def load_config(file_path):\n",
    "    full_path = os.path.join(parent_dir, file_path)\n",
    "    with open(full_path,'r') as f:\n",
    "        config = yaml.safe_load(f)\n",
    "    return config"
   ]
  },
  {
   "cell_type": "code",
   "execution_count": 5,
   "metadata": {},
   "outputs": [],
   "source": [
    "config = load_config('./configuration/config.yaml')\n",
    "db_host = config['local_db']['host']\n",
    "db_port = config['local_db']['port']\n",
    "database = config['local_db']['database']\n",
    "username = config['local_db']['username']\n",
    "password = config['local_db']['password']"
   ]
  },
  {
   "cell_type": "code",
   "execution_count": 6,
   "metadata": {},
   "outputs": [],
   "source": [
    "# Create database connection instance\n",
    "sqlconn_obj = SqlConn(username,password,db_host,db_port,database)\n",
    "engine = sqlconn_obj.connect()"
   ]
  },
  {
   "cell_type": "markdown",
   "metadata": {},
   "source": [
    "**Train Model**"
   ]
  },
  {
   "cell_type": "code",
   "execution_count": 7,
   "metadata": {},
   "outputs": [],
   "source": [
    "from train_model.TrainModel import TrainModel"
   ]
  },
  {
   "cell_type": "code",
   "execution_count": 8,
   "metadata": {},
   "outputs": [
    {
     "name": "stdout",
     "output_type": "stream",
     "text": [
      "Accuracy: 0.9738562091503268\n",
      "Recall: 0.9090909090909092\n",
      "F1 Score: 0.9424812030075188\n",
      "[[131   0]\n",
      " [  4  18]]\n",
      "Accuracy: 0.9545454545454546\n",
      "Recall: 0.78462441314554\n",
      "F1 Score: 0.8211382113821137\n",
      "[[140   2]\n",
      " [  5   7]]\n"
     ]
    }
   ],
   "source": [
    "TrainModel_obj = TrainModel()\n",
    "category_df = TrainModel_obj.getDistinctCategory(engine)\n",
    "threshold = 0.5\n",
    "\n",
    "for index, row in category_df.iterrows():\n",
    "    category = row['category']\n",
    "    df = TrainModel_obj.getTrainingData(category,engine)\n",
    "    TrainModel_obj.trainModel(category,df,threshold,engine)\n",
    "    "
   ]
  },
  {
   "cell_type": "markdown",
   "metadata": {},
   "source": [
    "**Update Model**"
   ]
  },
  {
   "cell_type": "code",
   "execution_count": null,
   "metadata": {},
   "outputs": [],
   "source": [
    "import pandas as pd\n",
    "from sqlalchemy import text"
   ]
  },
  {
   "cell_type": "code",
   "execution_count": null,
   "metadata": {},
   "outputs": [],
   "source": [
    "with engine.connect() as conn:\n",
    "    temp = '''\n",
    "        select max(version) \n",
    "        from fact_sch.vectorization_model_tb\n",
    "        where category = '{}'\n",
    "        '''\n",
    "    query = temp.format(category)\n",
    "    rs = conn.execute(text(query))\n",
    "    rows = rs.fetchall()\n",
    "\n",
    "    temp = pd.DataFrame(rows,columns=['max_id'])\n",
    "\n",
    "    max_id = temp['max_id'][0] + 1"
   ]
  },
  {
   "cell_type": "code",
   "execution_count": null,
   "metadata": {},
   "outputs": [],
   "source": [
    "for index, row in category_df.iterrows():\n",
    "    category = row['category']\n",
    "    TrainModel_obj.updateJobClassModelTable(category,max_id,engine)"
   ]
  }
 ],
 "metadata": {
  "kernelspec": {
   "display_name": "Python 3",
   "language": "python",
   "name": "python3"
  },
  "language_info": {
   "codemirror_mode": {
    "name": "ipython",
    "version": 3
   },
   "file_extension": ".py",
   "mimetype": "text/x-python",
   "name": "python",
   "nbconvert_exporter": "python",
   "pygments_lexer": "ipython3",
   "version": "3.10.11"
  }
 },
 "nbformat": 4,
 "nbformat_minor": 2
}
