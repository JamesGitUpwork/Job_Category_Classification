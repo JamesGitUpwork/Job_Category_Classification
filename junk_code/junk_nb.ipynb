{
 "cells": [
  {
   "cell_type": "code",
   "execution_count": 1,
   "metadata": {},
   "outputs": [],
   "source": [
    "import winthrop_client_python\n",
    "from winthrop_client_python.models.job_post_collection import JobPostCollection\n",
    "import pandas as pd\n",
    "from sqlalchemy import text"
   ]
  },
  {
   "cell_type": "code",
   "execution_count": 2,
   "metadata": {},
   "outputs": [],
   "source": [
    "host = 'https://api.winad-hq.com'\n",
    "api_key = 'ZaRMzpu627tFSmVFxkb9C3m8iJBswJ5gd2Ljf81LwLrBvjmtDdRzvyLwxCrRcnin'"
   ]
  },
  {
   "cell_type": "code",
   "execution_count": 3,
   "metadata": {},
   "outputs": [],
   "source": [
    "def create_instance(host_in,api):\n",
    "    configuration = winthrop_client_python.Configuration(\n",
    "        host = host_in\n",
    "    )\n",
    "\n",
    "    configuration.api_key_prefix['ApiKey'] = 'Token'\n",
    "    configuration.api_key['ApiKey'] = api\n",
    "    api_client = winthrop_client_python.ApiClient(configuration)\n",
    "    api_instance = winthrop_client_python.DefaultApi(api_client)\n",
    "    return api_instance"
   ]
  },
  {
   "cell_type": "code",
   "execution_count": 10,
   "metadata": {},
   "outputs": [],
   "source": [
    "ransack_query = {\n",
    "            \"categories_ancestry_start\": \"/4/\", \n",
    "            \"s\": \"updated_at desc\"  \n",
    "            }\n",
    "ci_instance = create_instance(host,api_key)\n",
    "api_response = ci_instance.get_job_posts(q=ransack_query)"
   ]
  },
  {
   "cell_type": "code",
   "execution_count": 11,
   "metadata": {},
   "outputs": [],
   "source": [
    "api_response_dict = JobPostCollection.to_dict(api_response)\n",
    "job_post_df = pd.DataFrame(api_response_dict['data'])"
   ]
  },
  {
   "cell_type": "code",
   "execution_count": 16,
   "metadata": {},
   "outputs": [
    {
     "data": {
      "text/plain": [
       "0                  Student GameDay Assistant – Tiger ID\n",
       "1                  Student GameDay Assistant – Tiger ID\n",
       "2               Pamplin Sports Center Student Attendant\n",
       "3               Pamplin Sports Center Student Attendant\n",
       "4             Part-time Assistant Track and Field Coach\n",
       "                            ...                        \n",
       "95    Workday Technology Analyst - Data Conversion (...\n",
       "96    Workday Technology Analyst - Data Conversion (...\n",
       "97    Associate Director, Alumni Outreach and Commun...\n",
       "98          CAS Dean's Office Staff Assistant (Student)\n",
       "99          CAS Dean's Office Staff Assistant (Student)\n",
       "Name: title, Length: 100, dtype: object"
      ]
     },
     "execution_count": 16,
     "metadata": {},
     "output_type": "execute_result"
    }
   ],
   "source": [
    "job_post_df['title']"
   ]
  },
  {
   "cell_type": "code",
   "execution_count": 9,
   "metadata": {},
   "outputs": [
    {
     "data": {
      "text/plain": [
       "{'data': [], 'meta': {'current_page': 1, 'total_pages': 0, 'total_entries': 0}}"
      ]
     },
     "execution_count": 9,
     "metadata": {},
     "output_type": "execute_result"
    }
   ],
   "source": [
    "api_response_dict"
   ]
  }
 ],
 "metadata": {
  "kernelspec": {
   "display_name": "Python 3",
   "language": "python",
   "name": "python3"
  },
  "language_info": {
   "codemirror_mode": {
    "name": "ipython",
    "version": 3
   },
   "file_extension": ".py",
   "mimetype": "text/x-python",
   "name": "python",
   "nbconvert_exporter": "python",
   "pygments_lexer": "ipython3",
   "version": "3.10.11"
  }
 },
 "nbformat": 4,
 "nbformat_minor": 2
}
