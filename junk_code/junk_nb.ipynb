{
 "cells": [
  {
   "cell_type": "code",
   "execution_count": 1,
   "metadata": {},
   "outputs": [],
   "source": [
    "import winthrop_client_python\n",
    "from winthrop_client_python.models.job_post_collection import JobPostCollection\n",
    "import pandas as pd\n",
    "from sqlalchemy import text"
   ]
  },
  {
   "cell_type": "code",
   "execution_count": 2,
   "metadata": {},
   "outputs": [],
   "source": [
    "host = 'https://api.winad-hq.com'\n",
    "api_key = 'ZaRMzpu627tFSmVFxkb9C3m8iJBswJ5gd2Ljf81LwLrBvjmtDdRzvyLwxCrRcnin'"
   ]
  },
  {
   "cell_type": "code",
   "execution_count": 3,
   "metadata": {},
   "outputs": [],
   "source": [
    "def create_instance(host_in,api):\n",
    "    configuration = winthrop_client_python.Configuration(\n",
    "        host = host_in\n",
    "    )\n",
    "\n",
    "    configuration.api_key_prefix['ApiKey'] = 'Token'\n",
    "    configuration.api_key['ApiKey'] = api\n",
    "    api_client = winthrop_client_python.ApiClient(configuration)\n",
    "    api_instance = winthrop_client_python.DefaultApi(api_client)\n",
    "    return api_instance"
   ]
  },
  {
   "cell_type": "code",
   "execution_count": 4,
   "metadata": {},
   "outputs": [],
   "source": [
    "ransack_query = {\n",
    "            \"categories_ancestry_start\": \"/4/\", \n",
    "            \"s\": \"updated_at desc\"  \n",
    "            }\n",
    "ci_instance = create_instance(host,api_key)\n",
    "pages = 3\n",
    "job_post_df = pd.DataFrame()\n",
    "for i in range(1,pages+1):\n",
    "    api_response = ci_instance.get_job_posts(page=i,q=ransack_query)\n",
    "    api_response_dict = JobPostCollection.to_dict(api_response)\n",
    "    temp = pd.DataFrame(api_response_dict['data'])\n",
    "    job_post_df = pd.concat([job_post_df,temp],ignore_index=True)"
   ]
  },
  {
   "cell_type": "code",
   "execution_count": 6,
   "metadata": {},
   "outputs": [],
   "source": [
    "columns = ['id','title','description_md','created_at']\n",
    "temp = job_post_df[columns]\n",
    "temp = temp.rename(columns={'id':'job_id'})"
   ]
  },
  {
   "cell_type": "code",
   "execution_count": 13,
   "metadata": {},
   "outputs": [
    {
     "data": {
      "text/plain": [
       "0      2024-08-07\n",
       "1      2024-08-07\n",
       "2      2024-08-07\n",
       "3      2024-08-07\n",
       "4      2024-08-07\n",
       "          ...    \n",
       "295    2024-08-07\n",
       "296    2024-08-07\n",
       "297    2024-08-07\n",
       "298    2024-08-07\n",
       "299    2024-08-07\n",
       "Name: created_at, Length: 300, dtype: object"
      ]
     },
     "execution_count": 13,
     "metadata": {},
     "output_type": "execute_result"
    }
   ],
   "source": [
    "temp['created_at'].dt.date"
   ]
  },
  {
   "cell_type": "code",
   "execution_count": 14,
   "metadata": {},
   "outputs": [
    {
     "data": {
      "text/html": [
       "<div>\n",
       "<style scoped>\n",
       "    .dataframe tbody tr th:only-of-type {\n",
       "        vertical-align: middle;\n",
       "    }\n",
       "\n",
       "    .dataframe tbody tr th {\n",
       "        vertical-align: top;\n",
       "    }\n",
       "\n",
       "    .dataframe thead th {\n",
       "        text-align: right;\n",
       "    }\n",
       "</style>\n",
       "<table border=\"1\" class=\"dataframe\">\n",
       "  <thead>\n",
       "    <tr style=\"text-align: right;\">\n",
       "      <th></th>\n",
       "      <th>job_id</th>\n",
       "      <th>title</th>\n",
       "      <th>description_md</th>\n",
       "      <th>created_at</th>\n",
       "    </tr>\n",
       "  </thead>\n",
       "  <tbody>\n",
       "    <tr>\n",
       "      <th>0</th>\n",
       "      <td>708776</td>\n",
       "      <td>Gameday Staff - 50/50 Sales-20</td>\n",
       "      <td>**Department:**\\r\\n\\r\\nUCF Athletics - Ticket...</td>\n",
       "      <td>2024-08-07 11:54:00.274000+00:00</td>\n",
       "    </tr>\n",
       "    <tr>\n",
       "      <th>1</th>\n",
       "      <td>709768</td>\n",
       "      <td>Men’s Assistant Varsity &amp; Head JV Basketball C...</td>\n",
       "      <td>\\r\\n\\r\\nWilliams Baptist University seeks qua...</td>\n",
       "      <td>2024-08-07 12:52:12.340000+00:00</td>\n",
       "    </tr>\n",
       "    <tr>\n",
       "      <th>2</th>\n",
       "      <td>709703</td>\n",
       "      <td>Assistant Softball Coach-Outfield</td>\n",
       "      <td>Webster University Athletics, a member of NCAA...</td>\n",
       "      <td>2024-08-07 12:46:53.462000+00:00</td>\n",
       "    </tr>\n",
       "    <tr>\n",
       "      <th>3</th>\n",
       "      <td>709703</td>\n",
       "      <td>Assistant Softball Coach-Outfield</td>\n",
       "      <td>Webster University Athletics, a member of NCAA...</td>\n",
       "      <td>2024-08-07 12:46:53.462000+00:00</td>\n",
       "    </tr>\n",
       "    <tr>\n",
       "      <th>4</th>\n",
       "      <td>708472</td>\n",
       "      <td>Assistant Softball Coach</td>\n",
       "      <td>[Apply](/Recruiting/Jobs/Apply/2638618) \\r\\n ...</td>\n",
       "      <td>2024-08-07 11:27:12.397000+00:00</td>\n",
       "    </tr>\n",
       "  </tbody>\n",
       "</table>\n",
       "</div>"
      ],
      "text/plain": [
       "   job_id                                              title  \\\n",
       "0  708776                     Gameday Staff - 50/50 Sales-20   \n",
       "1  709768  Men’s Assistant Varsity & Head JV Basketball C...   \n",
       "2  709703                  Assistant Softball Coach-Outfield   \n",
       "3  709703                  Assistant Softball Coach-Outfield   \n",
       "4  708472                           Assistant Softball Coach   \n",
       "\n",
       "                                      description_md  \\\n",
       "0   **Department:**\\r\\n\\r\\nUCF Athletics - Ticket...   \n",
       "1   \\r\\n\\r\\nWilliams Baptist University seeks qua...   \n",
       "2  Webster University Athletics, a member of NCAA...   \n",
       "3  Webster University Athletics, a member of NCAA...   \n",
       "4   [Apply](/Recruiting/Jobs/Apply/2638618) \\r\\n ...   \n",
       "\n",
       "                        created_at  \n",
       "0 2024-08-07 11:54:00.274000+00:00  \n",
       "1 2024-08-07 12:52:12.340000+00:00  \n",
       "2 2024-08-07 12:46:53.462000+00:00  \n",
       "3 2024-08-07 12:46:53.462000+00:00  \n",
       "4 2024-08-07 11:27:12.397000+00:00  "
      ]
     },
     "execution_count": 14,
     "metadata": {},
     "output_type": "execute_result"
    }
   ],
   "source": [
    "temp.head()"
   ]
  }
 ],
 "metadata": {
  "kernelspec": {
   "display_name": "Python 3",
   "language": "python",
   "name": "python3"
  },
  "language_info": {
   "codemirror_mode": {
    "name": "ipython",
    "version": 3
   },
   "file_extension": ".py",
   "mimetype": "text/x-python",
   "name": "python",
   "nbconvert_exporter": "python",
   "pygments_lexer": "ipython3",
   "version": "3.10.11"
  }
 },
 "nbformat": 4,
 "nbformat_minor": 2
}
