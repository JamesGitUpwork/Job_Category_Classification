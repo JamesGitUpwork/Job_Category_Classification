{
 "cells": [
  {
   "cell_type": "code",
   "execution_count": 1,
   "metadata": {},
   "outputs": [],
   "source": [
    "import winthrop_client_python\n",
    "from winthrop_client_python.models.job_post_collection import JobPostCollection\n",
    "import pandas as pd\n",
    "from sqlalchemy import text"
   ]
  },
  {
   "cell_type": "code",
   "execution_count": 2,
   "metadata": {},
   "outputs": [],
   "source": [
    "host = 'https://api.winad-hq.com'\n",
    "api_key = 'ZaRMzpu627tFSmVFxkb9C3m8iJBswJ5gd2Ljf81LwLrBvjmtDdRzvyLwxCrRcnin'"
   ]
  },
  {
   "cell_type": "code",
   "execution_count": 3,
   "metadata": {},
   "outputs": [],
   "source": [
    "def create_instance(host_in,api):\n",
    "    configuration = winthrop_client_python.Configuration(\n",
    "        host = host_in\n",
    "    )\n",
    "\n",
    "    configuration.api_key_prefix['ApiKey'] = 'Token'\n",
    "    configuration.api_key['ApiKey'] = api\n",
    "    api_client = winthrop_client_python.ApiClient(configuration)\n",
    "    api_instance = winthrop_client_python.DefaultApi(api_client)\n",
    "    return api_instance"
   ]
  },
  {
   "cell_type": "code",
   "execution_count": 20,
   "metadata": {},
   "outputs": [
    {
     "name": "stderr",
     "output_type": "stream",
     "text": [
      "C:\\Users\\yimin\\AppData\\Local\\Temp\\ipykernel_17824\\1923025199.py:12: FutureWarning: The frame.append method is deprecated and will be removed from pandas in a future version. Use pandas.concat instead.\n",
      "  job_post_df = job_post_df.append(temp,ignore_index=True)\n",
      "C:\\Users\\yimin\\AppData\\Local\\Temp\\ipykernel_17824\\1923025199.py:12: FutureWarning: The frame.append method is deprecated and will be removed from pandas in a future version. Use pandas.concat instead.\n",
      "  job_post_df = job_post_df.append(temp,ignore_index=True)\n"
     ]
    }
   ],
   "source": [
    "ransack_query = {\n",
    "            \"categories_ancestry_start\": \"/4/\", \n",
    "            \"s\": \"updated_at desc\"  \n",
    "            }\n",
    "ci_instance = create_instance(host,api_key)\n",
    "pages = 2\n",
    "job_post_df = pd.DataFrame()\n",
    "for i in range(1,pages+1):\n",
    "    api_response = ci_instance.get_job_posts(page=i,q=ransack_query)\n",
    "    api_response_dict = JobPostCollection.to_dict(api_response)\n",
    "    temp = pd.DataFrame(api_response_dict['data'])\n",
    "    job_post_df = job_post_df.append(temp,ignore_index=True)"
   ]
  },
  {
   "cell_type": "code",
   "execution_count": 24,
   "metadata": {},
   "outputs": [
    {
     "data": {
      "text/plain": [
       "156"
      ]
     },
     "execution_count": 24,
     "metadata": {},
     "output_type": "execute_result"
    }
   ],
   "source": [
    "job_post_df['id'].nunique()"
   ]
  },
  {
   "cell_type": "code",
   "execution_count": 16,
   "metadata": {},
   "outputs": [
    {
     "ename": "AttributeError",
     "evalue": "'list' object has no attribute 'model_dump'",
     "output_type": "error",
     "traceback": [
      "\u001b[1;31m---------------------------------------------------------------------------\u001b[0m",
      "\u001b[1;31mAttributeError\u001b[0m                            Traceback (most recent call last)",
      "Cell \u001b[1;32mIn[16], line 1\u001b[0m\n\u001b[1;32m----> 1\u001b[0m api_response_dict \u001b[38;5;241m=\u001b[39m \u001b[43mJobPostCollection\u001b[49m\u001b[38;5;241;43m.\u001b[39;49m\u001b[43mto_dict\u001b[49m\u001b[43m(\u001b[49m\u001b[43mapi_response_ls\u001b[49m\u001b[43m)\u001b[49m\n\u001b[0;32m      2\u001b[0m job_post_df \u001b[38;5;241m=\u001b[39m pd\u001b[38;5;241m.\u001b[39mDataFrame(api_response_dict[\u001b[38;5;124m'\u001b[39m\u001b[38;5;124mdata\u001b[39m\u001b[38;5;124m'\u001b[39m])\n",
      "File \u001b[1;32m~\\AppData\\Local\\Packages\\PythonSoftwareFoundation.Python.3.10_qbz5n2kfra8p0\\LocalCache\\local-packages\\Python310\\site-packages\\winthrop_client_python\\models\\job_post_collection.py:69\u001b[0m, in \u001b[0;36mJobPostCollection.to_dict\u001b[1;34m(self)\u001b[0m\n\u001b[0;32m     58\u001b[0m \u001b[38;5;250m\u001b[39m\u001b[38;5;124;03m\"\"\"Return the dictionary representation of the model using alias.\u001b[39;00m\n\u001b[0;32m     59\u001b[0m \n\u001b[0;32m     60\u001b[0m \u001b[38;5;124;03mThis has the following differences from calling pydantic's\u001b[39;00m\n\u001b[1;32m   (...)\u001b[0m\n\u001b[0;32m     65\u001b[0m \u001b[38;5;124;03m  are ignored.\u001b[39;00m\n\u001b[0;32m     66\u001b[0m \u001b[38;5;124;03m\"\"\"\u001b[39;00m\n\u001b[0;32m     67\u001b[0m excluded_fields: Set[\u001b[38;5;28mstr\u001b[39m] \u001b[38;5;241m=\u001b[39m \u001b[38;5;28mset\u001b[39m([])\n\u001b[1;32m---> 69\u001b[0m _dict \u001b[38;5;241m=\u001b[39m \u001b[38;5;28;43mself\u001b[39;49m\u001b[38;5;241;43m.\u001b[39;49m\u001b[43mmodel_dump\u001b[49m(\n\u001b[0;32m     70\u001b[0m     by_alias\u001b[38;5;241m=\u001b[39m\u001b[38;5;28;01mTrue\u001b[39;00m,\n\u001b[0;32m     71\u001b[0m     exclude\u001b[38;5;241m=\u001b[39mexcluded_fields,\n\u001b[0;32m     72\u001b[0m     exclude_none\u001b[38;5;241m=\u001b[39m\u001b[38;5;28;01mTrue\u001b[39;00m,\n\u001b[0;32m     73\u001b[0m )\n\u001b[0;32m     74\u001b[0m \u001b[38;5;66;03m# override the default output from pydantic by calling `to_dict()` of each item in data (list)\u001b[39;00m\n\u001b[0;32m     75\u001b[0m _items \u001b[38;5;241m=\u001b[39m []\n",
      "\u001b[1;31mAttributeError\u001b[0m: 'list' object has no attribute 'model_dump'"
     ]
    }
   ],
   "source": [
    "api_response_dict = JobPostCollection.to_dict(api_response)\n",
    "job_post_df = pd.DataFrame(api_response_dict['data'])"
   ]
  },
  {
   "cell_type": "code",
   "execution_count": 10,
   "metadata": {},
   "outputs": [
    {
     "data": {
      "text/plain": [
       "100"
      ]
     },
     "execution_count": 10,
     "metadata": {},
     "output_type": "execute_result"
    }
   ],
   "source": [
    "len(job_post_df)"
   ]
  }
 ],
 "metadata": {
  "kernelspec": {
   "display_name": "Python 3",
   "language": "python",
   "name": "python3"
  },
  "language_info": {
   "codemirror_mode": {
    "name": "ipython",
    "version": 3
   },
   "file_extension": ".py",
   "mimetype": "text/x-python",
   "name": "python",
   "nbconvert_exporter": "python",
   "pygments_lexer": "ipython3",
   "version": "3.10.11"
  }
 },
 "nbformat": 4,
 "nbformat_minor": 2
}
